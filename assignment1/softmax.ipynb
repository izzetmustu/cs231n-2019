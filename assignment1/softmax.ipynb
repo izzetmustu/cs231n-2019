{
 "cells": [
  {
   "cell_type": "markdown",
   "metadata": {
    "tags": [
     "pdf-title"
    ]
   },
   "source": [
    "# Softmax exercise\n",
    "\n",
    "*Complete and hand in this completed worksheet (including its outputs and any supporting code outside of the worksheet) with your assignment submission. For more details see the [assignments page](http://vision.stanford.edu/teaching/cs231n/assignments.html) on the course website.*\n",
    "\n",
    "This exercise is analogous to the SVM exercise. You will:\n",
    "\n",
    "- implement a fully-vectorized **loss function** for the Softmax classifier\n",
    "- implement the fully-vectorized expression for its **analytic gradient**\n",
    "- **check your implementation** with numerical gradient\n",
    "- use a validation set to **tune the learning rate and regularization** strength\n",
    "- **optimize** the loss function with **SGD**\n",
    "- **visualize** the final learned weights\n"
   ]
  },
  {
   "cell_type": "code",
   "execution_count": 1,
   "metadata": {
    "tags": [
     "pdf-ignore"
    ]
   },
   "outputs": [],
   "source": [
    "import random\n",
    "import numpy as np\n",
    "from cs231n.data_utils import load_CIFAR10\n",
    "import matplotlib.pyplot as plt\n",
    "\n",
    "%matplotlib inline\n",
    "plt.rcParams['figure.figsize'] = (10.0, 8.0) # set default size of plots\n",
    "plt.rcParams['image.interpolation'] = 'nearest'\n",
    "plt.rcParams['image.cmap'] = 'gray'\n",
    "\n",
    "# for auto-reloading extenrnal modules\n",
    "# see http://stackoverflow.com/questions/1907993/autoreload-of-modules-in-ipython\n",
    "%load_ext autoreload\n",
    "%autoreload 2"
   ]
  },
  {
   "cell_type": "code",
   "execution_count": 2,
   "metadata": {
    "tags": [
     "pdf-ignore"
    ]
   },
   "outputs": [
    {
     "name": "stdout",
     "output_type": "stream",
     "text": [
      "Train data shape:  (49000, 3073)\n",
      "Train labels shape:  (49000,)\n",
      "Validation data shape:  (1000, 3073)\n",
      "Validation labels shape:  (1000,)\n",
      "Test data shape:  (1000, 3073)\n",
      "Test labels shape:  (1000,)\n",
      "dev data shape:  (500, 3073)\n",
      "dev labels shape:  (500,)\n"
     ]
    }
   ],
   "source": [
    "def get_CIFAR10_data(num_training=49000, num_validation=1000, num_test=1000, num_dev=500):\n",
    "    \"\"\"\n",
    "    Load the CIFAR-10 dataset from disk and perform preprocessing to prepare\n",
    "    it for the linear classifier. These are the same steps as we used for the\n",
    "    SVM, but condensed to a single function.  \n",
    "    \"\"\"\n",
    "    # Load the raw CIFAR-10 data\n",
    "    cifar10_dir = 'cs231n/datasets/cifar-10-batches-py'\n",
    "    \n",
    "    # Cleaning up variables to prevent loading data multiple times (which may cause memory issue)\n",
    "    try:\n",
    "       del X_train, y_train\n",
    "       del X_test, y_test\n",
    "       print('Clear previously loaded data.')\n",
    "    except:\n",
    "       pass\n",
    "\n",
    "    X_train, y_train, X_test, y_test = load_CIFAR10(cifar10_dir)\n",
    "    \n",
    "    # subsample the data\n",
    "    mask = list(range(num_training, num_training + num_validation))\n",
    "    X_val = X_train[mask]\n",
    "    y_val = y_train[mask]\n",
    "    mask = list(range(num_training))\n",
    "    X_train = X_train[mask]\n",
    "    y_train = y_train[mask]\n",
    "    mask = list(range(num_test))\n",
    "    X_test = X_test[mask]\n",
    "    y_test = y_test[mask]\n",
    "    mask = np.random.choice(num_training, num_dev, replace=False)\n",
    "    X_dev = X_train[mask]\n",
    "    y_dev = y_train[mask]\n",
    "    \n",
    "    # Preprocessing: reshape the image data into rows\n",
    "    X_train = np.reshape(X_train, (X_train.shape[0], -1))\n",
    "    X_val = np.reshape(X_val, (X_val.shape[0], -1))\n",
    "    X_test = np.reshape(X_test, (X_test.shape[0], -1))\n",
    "    X_dev = np.reshape(X_dev, (X_dev.shape[0], -1))\n",
    "    \n",
    "    # Normalize the data: subtract the mean image\n",
    "    mean_image = np.mean(X_train, axis = 0)\n",
    "    X_train -= mean_image\n",
    "    X_val -= mean_image\n",
    "    X_test -= mean_image\n",
    "    X_dev -= mean_image\n",
    "    \n",
    "    # add bias dimension and transform into columns\n",
    "    X_train = np.hstack([X_train, np.ones((X_train.shape[0], 1))])\n",
    "    X_val = np.hstack([X_val, np.ones((X_val.shape[0], 1))])\n",
    "    X_test = np.hstack([X_test, np.ones((X_test.shape[0], 1))])\n",
    "    X_dev = np.hstack([X_dev, np.ones((X_dev.shape[0], 1))])\n",
    "    \n",
    "    return X_train, y_train, X_val, y_val, X_test, y_test, X_dev, y_dev\n",
    "\n",
    "\n",
    "# Invoke the above function to get our data.\n",
    "X_train, y_train, X_val, y_val, X_test, y_test, X_dev, y_dev = get_CIFAR10_data()\n",
    "print('Train data shape: ', X_train.shape)\n",
    "print('Train labels shape: ', y_train.shape)\n",
    "print('Validation data shape: ', X_val.shape)\n",
    "print('Validation labels shape: ', y_val.shape)\n",
    "print('Test data shape: ', X_test.shape)\n",
    "print('Test labels shape: ', y_test.shape)\n",
    "print('dev data shape: ', X_dev.shape)\n",
    "print('dev labels shape: ', y_dev.shape)"
   ]
  },
  {
   "cell_type": "markdown",
   "metadata": {},
   "source": [
    "## Softmax Classifier\n",
    "\n",
    "Your code for this section will all be written inside **cs231n/classifiers/softmax.py**. \n"
   ]
  },
  {
   "cell_type": "code",
   "execution_count": 3,
   "metadata": {},
   "outputs": [
    {
     "name": "stdout",
     "output_type": "stream",
     "text": [
      "loss: 2.357466\n",
      "sanity check: 2.302585\n"
     ]
    }
   ],
   "source": [
    "# First implement the naive softmax loss function with nested loops.\n",
    "# Open the file cs231n/classifiers/softmax.py and implement the\n",
    "# softmax_loss_naive function.\n",
    "\n",
    "from cs231n.classifiers.softmax import softmax_loss_naive\n",
    "import time\n",
    "\n",
    "# Generate a random softmax weight matrix and use it to compute the loss.\n",
    "W = np.random.randn(3073, 10) * 0.0001\n",
    "loss, grad = softmax_loss_naive(W, X_dev, y_dev, 0.0)\n",
    "\n",
    "# As a rough sanity check, our loss should be something close to -log(0.1).\n",
    "print('loss: %f' % loss)\n",
    "print('sanity check: %f' % (-np.log(0.1)))"
   ]
  },
  {
   "cell_type": "markdown",
   "metadata": {
    "tags": [
     "pdf-inline"
    ]
   },
   "source": [
    "**Inline Question 1**\n",
    "\n",
    "Why do we expect our loss to be close to -log(0.1)? Explain briefly.**\n",
    "\n",
    "$\\color{blue}{\\textit Your Answer:}$ *At first, weights are so small and close to each other. So, predictions are very close to each other. Softmax gives us probabilities of each class inside -log() and since there are 10 classes, probability of each class at first is close to 0.1.* \n",
    "\n"
   ]
  },
  {
   "cell_type": "code",
   "execution_count": 4,
   "metadata": {},
   "outputs": [
    {
     "name": "stdout",
     "output_type": "stream",
     "text": [
      "numerical: -3.642988 analytic: -3.642988, relative error: 1.563472e-08\n",
      "numerical: -0.712515 analytic: -0.712515, relative error: 6.472781e-09\n",
      "numerical: -1.624444 analytic: -1.624444, relative error: 1.915092e-08\n",
      "numerical: 3.289764 analytic: 3.289764, relative error: 2.161841e-08\n",
      "numerical: 0.193649 analytic: 0.193648, relative error: 1.164995e-07\n",
      "numerical: -1.142467 analytic: -1.142467, relative error: 4.447735e-08\n",
      "numerical: 0.660228 analytic: 0.660228, relative error: 2.494809e-08\n",
      "numerical: 0.520665 analytic: 0.520664, relative error: 1.382163e-07\n",
      "numerical: 0.280971 analytic: 0.280971, relative error: 2.148651e-07\n",
      "numerical: 0.465870 analytic: 0.465870, relative error: 1.177216e-08\n",
      "numerical: 3.051758 analytic: 4.220376, relative error: 1.606981e-01\n",
      "numerical: 3.051758 analytic: 2.432476, relative error: 1.129203e-01\n",
      "numerical: 0.000000 analytic: 0.538452, relative error: 1.000000e+00\n",
      "numerical: 0.000000 analytic: 0.754628, relative error: 1.000000e+00\n",
      "numerical: 0.000000 analytic: 1.098253, relative error: 1.000000e+00\n",
      "numerical: -3.051758 analytic: -2.072434, relative error: 1.911178e-01\n",
      "numerical: -3.051758 analytic: -2.980213, relative error: 1.186095e-02\n",
      "numerical: 0.000000 analytic: 0.741494, relative error: 1.000000e+00\n",
      "numerical: -3.051758 analytic: -4.208454, relative error: 1.593199e-01\n",
      "numerical: 3.051758 analytic: 1.685898, relative error: 2.882986e-01\n"
     ]
    }
   ],
   "source": [
    "# Complete the implementation of softmax_loss_naive and implement a (naive)\n",
    "# version of the gradient that uses nested loops.\n",
    "loss, grad = softmax_loss_naive(W, X_dev, y_dev, 0.0)\n",
    "\n",
    "# As we did for the SVM, use numeric gradient checking as a debugging tool.\n",
    "# The numeric gradient should be close to the analytic gradient.\n",
    "from cs231n.gradient_check import grad_check_sparse\n",
    "f = lambda w: softmax_loss_naive(w, X_dev, y_dev, 0.0)[0]\n",
    "grad_numerical = grad_check_sparse(f, W, grad, 10)\n",
    "\n",
    "# similar to SVM case, do another gradient check with regularization\n",
    "loss, grad = softmax_loss_naive(W, X_dev, y_dev, 5e1)\n",
    "f = lambda w: softmax_loss_naive(w, X_dev, y_dev, 5e1)[0]\n",
    "grad_numerical = grad_check_sparse(f, W, grad, 10)"
   ]
  },
  {
   "cell_type": "code",
   "execution_count": 5,
   "metadata": {},
   "outputs": [
    {
     "name": "stdout",
     "output_type": "stream",
     "text": [
      "naive loss: 3.147818e+04 computed in 0.075069s\n",
      "vectorized loss: 3.147818e+04 computed in 0.005006s\n",
      "Loss difference: 0.000000\n",
      "Gradient difference: 0.000000\n"
     ]
    }
   ],
   "source": [
    "# Now that we have a naive implementation of the softmax loss function and its gradient,\n",
    "# implement a vectorized version in softmax_loss_vectorized.\n",
    "# The two versions should compute the same results, but the vectorized version should be\n",
    "# much faster.\n",
    "tic = time.time()\n",
    "loss_naive, grad_naive = softmax_loss_naive(W, X_dev, y_dev, 0.000005)\n",
    "toc = time.time()\n",
    "print('naive loss: %e computed in %fs' % (loss_naive, toc - tic))\n",
    "\n",
    "from cs231n.classifiers.softmax import softmax_loss_vectorized\n",
    "tic = time.time()\n",
    "loss_vectorized, grad_vectorized = softmax_loss_vectorized(W, X_dev, y_dev, 0.000005)\n",
    "toc = time.time()\n",
    "print('vectorized loss: %e computed in %fs' % (loss_vectorized, toc - tic))\n",
    "\n",
    "# As we did for the SVM, we use the Frobenius norm to compare the two versions\n",
    "# of the gradient.\n",
    "grad_difference = np.linalg.norm(grad_naive - grad_vectorized, ord='fro')\n",
    "print('Loss difference: %f' % np.abs(loss_naive - loss_vectorized))\n",
    "print('Gradient difference: %f' % grad_difference)"
   ]
  },
  {
   "cell_type": "code",
   "execution_count": 6,
   "metadata": {
    "tags": [
     "code"
    ]
   },
   "outputs": [
    {
     "name": "stdout",
     "output_type": "stream",
     "text": [
      "lr 1.000000e-07 reg 2.500000e+04 train accuracy: 0.330878 val accuracy: 0.334000\n",
      "lr 1.000000e-07 reg 2.777778e+04 train accuracy: 0.331776 val accuracy: 0.347000\n",
      "lr 1.000000e-07 reg 3.055556e+04 train accuracy: 0.321592 val accuracy: 0.340000\n",
      "lr 1.000000e-07 reg 3.333333e+04 train accuracy: 0.320918 val accuracy: 0.334000\n",
      "lr 1.000000e-07 reg 3.611111e+04 train accuracy: 0.321388 val accuracy: 0.327000\n",
      "lr 1.000000e-07 reg 3.888889e+04 train accuracy: 0.314469 val accuracy: 0.335000\n",
      "lr 1.000000e-07 reg 4.166667e+04 train accuracy: 0.317204 val accuracy: 0.330000\n",
      "lr 1.000000e-07 reg 4.444444e+04 train accuracy: 0.310143 val accuracy: 0.332000\n",
      "lr 1.000000e-07 reg 4.722222e+04 train accuracy: 0.298408 val accuracy: 0.320000\n",
      "lr 1.000000e-07 reg 5.000000e+04 train accuracy: 0.314776 val accuracy: 0.333000\n",
      "lr 1.210526e-07 reg 2.500000e+04 train accuracy: 0.324388 val accuracy: 0.344000\n",
      "lr 1.210526e-07 reg 2.777778e+04 train accuracy: 0.320959 val accuracy: 0.333000\n",
      "lr 1.210526e-07 reg 3.055556e+04 train accuracy: 0.313959 val accuracy: 0.327000\n",
      "lr 1.210526e-07 reg 3.333333e+04 train accuracy: 0.322837 val accuracy: 0.334000\n",
      "lr 1.210526e-07 reg 3.611111e+04 train accuracy: 0.315041 val accuracy: 0.335000\n",
      "lr 1.210526e-07 reg 3.888889e+04 train accuracy: 0.314939 val accuracy: 0.330000\n",
      "lr 1.210526e-07 reg 4.166667e+04 train accuracy: 0.303694 val accuracy: 0.318000\n",
      "lr 1.210526e-07 reg 4.444444e+04 train accuracy: 0.306469 val accuracy: 0.329000\n",
      "lr 1.210526e-07 reg 4.722222e+04 train accuracy: 0.304224 val accuracy: 0.326000\n",
      "lr 1.210526e-07 reg 5.000000e+04 train accuracy: 0.310959 val accuracy: 0.326000\n",
      "lr 1.421053e-07 reg 2.500000e+04 train accuracy: 0.331551 val accuracy: 0.341000\n",
      "lr 1.421053e-07 reg 2.777778e+04 train accuracy: 0.322102 val accuracy: 0.340000\n",
      "lr 1.421053e-07 reg 3.055556e+04 train accuracy: 0.317306 val accuracy: 0.331000\n",
      "lr 1.421053e-07 reg 3.333333e+04 train accuracy: 0.321857 val accuracy: 0.345000\n",
      "lr 1.421053e-07 reg 3.611111e+04 train accuracy: 0.317918 val accuracy: 0.338000\n",
      "lr 1.421053e-07 reg 3.888889e+04 train accuracy: 0.319980 val accuracy: 0.324000\n",
      "lr 1.421053e-07 reg 4.166667e+04 train accuracy: 0.310592 val accuracy: 0.325000\n",
      "lr 1.421053e-07 reg 4.444444e+04 train accuracy: 0.307306 val accuracy: 0.326000\n",
      "lr 1.421053e-07 reg 4.722222e+04 train accuracy: 0.300694 val accuracy: 0.324000\n",
      "lr 1.421053e-07 reg 5.000000e+04 train accuracy: 0.314122 val accuracy: 0.329000\n",
      "lr 1.631579e-07 reg 2.500000e+04 train accuracy: 0.332592 val accuracy: 0.351000\n",
      "lr 1.631579e-07 reg 2.777778e+04 train accuracy: 0.322776 val accuracy: 0.341000\n",
      "lr 1.631579e-07 reg 3.055556e+04 train accuracy: 0.324776 val accuracy: 0.339000\n",
      "lr 1.631579e-07 reg 3.333333e+04 train accuracy: 0.325347 val accuracy: 0.341000\n",
      "lr 1.631579e-07 reg 3.611111e+04 train accuracy: 0.316408 val accuracy: 0.331000\n",
      "lr 1.631579e-07 reg 3.888889e+04 train accuracy: 0.325633 val accuracy: 0.339000\n",
      "lr 1.631579e-07 reg 4.166667e+04 train accuracy: 0.314020 val accuracy: 0.331000\n",
      "lr 1.631579e-07 reg 4.444444e+04 train accuracy: 0.303306 val accuracy: 0.320000\n",
      "lr 1.631579e-07 reg 4.722222e+04 train accuracy: 0.307653 val accuracy: 0.313000\n",
      "lr 1.631579e-07 reg 5.000000e+04 train accuracy: 0.314612 val accuracy: 0.323000\n",
      "lr 1.842105e-07 reg 2.500000e+04 train accuracy: 0.325490 val accuracy: 0.337000\n",
      "lr 1.842105e-07 reg 2.777778e+04 train accuracy: 0.329000 val accuracy: 0.341000\n",
      "lr 1.842105e-07 reg 3.055556e+04 train accuracy: 0.329224 val accuracy: 0.337000\n",
      "lr 1.842105e-07 reg 3.333333e+04 train accuracy: 0.315061 val accuracy: 0.333000\n",
      "lr 1.842105e-07 reg 3.611111e+04 train accuracy: 0.314776 val accuracy: 0.336000\n",
      "lr 1.842105e-07 reg 3.888889e+04 train accuracy: 0.304694 val accuracy: 0.324000\n",
      "lr 1.842105e-07 reg 4.166667e+04 train accuracy: 0.312286 val accuracy: 0.322000\n",
      "lr 1.842105e-07 reg 4.444444e+04 train accuracy: 0.306327 val accuracy: 0.320000\n",
      "lr 1.842105e-07 reg 4.722222e+04 train accuracy: 0.303143 val accuracy: 0.314000\n",
      "lr 1.842105e-07 reg 5.000000e+04 train accuracy: 0.310265 val accuracy: 0.334000\n",
      "lr 2.052632e-07 reg 2.500000e+04 train accuracy: 0.331449 val accuracy: 0.342000\n",
      "lr 2.052632e-07 reg 2.777778e+04 train accuracy: 0.325286 val accuracy: 0.347000\n",
      "lr 2.052632e-07 reg 3.055556e+04 train accuracy: 0.325367 val accuracy: 0.338000\n",
      "lr 2.052632e-07 reg 3.333333e+04 train accuracy: 0.324020 val accuracy: 0.336000\n",
      "lr 2.052632e-07 reg 3.611111e+04 train accuracy: 0.312327 val accuracy: 0.322000\n",
      "lr 2.052632e-07 reg 3.888889e+04 train accuracy: 0.309776 val accuracy: 0.329000\n",
      "lr 2.052632e-07 reg 4.166667e+04 train accuracy: 0.316571 val accuracy: 0.333000\n",
      "lr 2.052632e-07 reg 4.444444e+04 train accuracy: 0.304469 val accuracy: 0.311000\n",
      "lr 2.052632e-07 reg 4.722222e+04 train accuracy: 0.310490 val accuracy: 0.325000\n",
      "lr 2.052632e-07 reg 5.000000e+04 train accuracy: 0.308531 val accuracy: 0.322000\n",
      "lr 2.263158e-07 reg 2.500000e+04 train accuracy: 0.327939 val accuracy: 0.342000\n",
      "lr 2.263158e-07 reg 2.777778e+04 train accuracy: 0.321878 val accuracy: 0.335000\n",
      "lr 2.263158e-07 reg 3.055556e+04 train accuracy: 0.328612 val accuracy: 0.347000\n",
      "lr 2.263158e-07 reg 3.333333e+04 train accuracy: 0.323306 val accuracy: 0.330000\n",
      "lr 2.263158e-07 reg 3.611111e+04 train accuracy: 0.317510 val accuracy: 0.329000\n",
      "lr 2.263158e-07 reg 3.888889e+04 train accuracy: 0.305102 val accuracy: 0.321000\n",
      "lr 2.263158e-07 reg 4.166667e+04 train accuracy: 0.314653 val accuracy: 0.328000\n",
      "lr 2.263158e-07 reg 4.444444e+04 train accuracy: 0.302306 val accuracy: 0.318000\n",
      "lr 2.263158e-07 reg 4.722222e+04 train accuracy: 0.314061 val accuracy: 0.331000\n",
      "lr 2.263158e-07 reg 5.000000e+04 train accuracy: 0.289143 val accuracy: 0.308000\n",
      "lr 2.473684e-07 reg 2.500000e+04 train accuracy: 0.326612 val accuracy: 0.341000\n",
      "lr 2.473684e-07 reg 2.777778e+04 train accuracy: 0.326286 val accuracy: 0.343000\n",
      "lr 2.473684e-07 reg 3.055556e+04 train accuracy: 0.328449 val accuracy: 0.340000\n",
      "lr 2.473684e-07 reg 3.333333e+04 train accuracy: 0.323551 val accuracy: 0.338000\n",
      "lr 2.473684e-07 reg 3.611111e+04 train accuracy: 0.324816 val accuracy: 0.341000\n",
      "lr 2.473684e-07 reg 3.888889e+04 train accuracy: 0.308837 val accuracy: 0.326000\n",
      "lr 2.473684e-07 reg 4.166667e+04 train accuracy: 0.308959 val accuracy: 0.322000\n",
      "lr 2.473684e-07 reg 4.444444e+04 train accuracy: 0.304469 val accuracy: 0.323000\n",
      "lr 2.473684e-07 reg 4.722222e+04 train accuracy: 0.306837 val accuracy: 0.315000\n",
      "lr 2.473684e-07 reg 5.000000e+04 train accuracy: 0.305041 val accuracy: 0.316000\n",
      "lr 2.684211e-07 reg 2.500000e+04 train accuracy: 0.331020 val accuracy: 0.343000\n",
      "lr 2.684211e-07 reg 2.777778e+04 train accuracy: 0.316041 val accuracy: 0.335000\n",
      "lr 2.684211e-07 reg 3.055556e+04 train accuracy: 0.330816 val accuracy: 0.340000\n",
      "lr 2.684211e-07 reg 3.333333e+04 train accuracy: 0.307755 val accuracy: 0.327000\n",
      "lr 2.684211e-07 reg 3.611111e+04 train accuracy: 0.309327 val accuracy: 0.324000\n",
      "lr 2.684211e-07 reg 3.888889e+04 train accuracy: 0.313612 val accuracy: 0.321000\n",
      "lr 2.684211e-07 reg 4.166667e+04 train accuracy: 0.300000 val accuracy: 0.323000\n",
      "lr 2.684211e-07 reg 4.444444e+04 train accuracy: 0.294224 val accuracy: 0.306000\n",
      "lr 2.684211e-07 reg 4.722222e+04 train accuracy: 0.314041 val accuracy: 0.319000\n",
      "lr 2.684211e-07 reg 5.000000e+04 train accuracy: 0.302102 val accuracy: 0.318000\n",
      "lr 2.894737e-07 reg 2.500000e+04 train accuracy: 0.328816 val accuracy: 0.355000\n",
      "lr 2.894737e-07 reg 2.777778e+04 train accuracy: 0.325633 val accuracy: 0.338000\n",
      "lr 2.894737e-07 reg 3.055556e+04 train accuracy: 0.322122 val accuracy: 0.334000\n",
      "lr 2.894737e-07 reg 3.333333e+04 train accuracy: 0.322653 val accuracy: 0.327000\n",
      "lr 2.894737e-07 reg 3.611111e+04 train accuracy: 0.322918 val accuracy: 0.329000\n",
      "lr 2.894737e-07 reg 3.888889e+04 train accuracy: 0.313796 val accuracy: 0.323000\n",
      "lr 2.894737e-07 reg 4.166667e+04 train accuracy: 0.316755 val accuracy: 0.334000\n",
      "lr 2.894737e-07 reg 4.444444e+04 train accuracy: 0.305857 val accuracy: 0.320000\n",
      "lr 2.894737e-07 reg 4.722222e+04 train accuracy: 0.315388 val accuracy: 0.324000\n",
      "lr 2.894737e-07 reg 5.000000e+04 train accuracy: 0.307714 val accuracy: 0.316000\n",
      "lr 3.105263e-07 reg 2.500000e+04 train accuracy: 0.314755 val accuracy: 0.336000\n",
      "lr 3.105263e-07 reg 2.777778e+04 train accuracy: 0.315286 val accuracy: 0.330000\n",
      "lr 3.105263e-07 reg 3.055556e+04 train accuracy: 0.328388 val accuracy: 0.344000\n",
      "lr 3.105263e-07 reg 3.333333e+04 train accuracy: 0.320184 val accuracy: 0.337000\n",
      "lr 3.105263e-07 reg 3.611111e+04 train accuracy: 0.304980 val accuracy: 0.328000\n",
      "lr 3.105263e-07 reg 3.888889e+04 train accuracy: 0.320327 val accuracy: 0.327000\n",
      "lr 3.105263e-07 reg 4.166667e+04 train accuracy: 0.318837 val accuracy: 0.329000\n",
      "lr 3.105263e-07 reg 4.444444e+04 train accuracy: 0.298122 val accuracy: 0.320000\n",
      "lr 3.105263e-07 reg 4.722222e+04 train accuracy: 0.307816 val accuracy: 0.320000\n",
      "lr 3.105263e-07 reg 5.000000e+04 train accuracy: 0.301878 val accuracy: 0.315000\n",
      "lr 3.315789e-07 reg 2.500000e+04 train accuracy: 0.328204 val accuracy: 0.342000\n",
      "lr 3.315789e-07 reg 2.777778e+04 train accuracy: 0.329224 val accuracy: 0.338000\n",
      "lr 3.315789e-07 reg 3.055556e+04 train accuracy: 0.320571 val accuracy: 0.335000\n",
      "lr 3.315789e-07 reg 3.333333e+04 train accuracy: 0.313388 val accuracy: 0.334000\n",
      "lr 3.315789e-07 reg 3.611111e+04 train accuracy: 0.313673 val accuracy: 0.330000\n",
      "lr 3.315789e-07 reg 3.888889e+04 train accuracy: 0.302816 val accuracy: 0.313000\n",
      "lr 3.315789e-07 reg 4.166667e+04 train accuracy: 0.313490 val accuracy: 0.331000\n",
      "lr 3.315789e-07 reg 4.444444e+04 train accuracy: 0.304878 val accuracy: 0.323000\n",
      "lr 3.315789e-07 reg 4.722222e+04 train accuracy: 0.297429 val accuracy: 0.304000\n",
      "lr 3.315789e-07 reg 5.000000e+04 train accuracy: 0.289959 val accuracy: 0.305000\n",
      "lr 3.526316e-07 reg 2.500000e+04 train accuracy: 0.333490 val accuracy: 0.350000\n",
      "lr 3.526316e-07 reg 2.777778e+04 train accuracy: 0.321551 val accuracy: 0.329000\n",
      "lr 3.526316e-07 reg 3.055556e+04 train accuracy: 0.313714 val accuracy: 0.333000\n",
      "lr 3.526316e-07 reg 3.333333e+04 train accuracy: 0.308347 val accuracy: 0.323000\n",
      "lr 3.526316e-07 reg 3.611111e+04 train accuracy: 0.318878 val accuracy: 0.332000\n",
      "lr 3.526316e-07 reg 3.888889e+04 train accuracy: 0.307020 val accuracy: 0.326000\n",
      "lr 3.526316e-07 reg 4.166667e+04 train accuracy: 0.300735 val accuracy: 0.316000\n",
      "lr 3.526316e-07 reg 4.444444e+04 train accuracy: 0.299776 val accuracy: 0.315000\n",
      "lr 3.526316e-07 reg 4.722222e+04 train accuracy: 0.301041 val accuracy: 0.317000\n",
      "lr 3.526316e-07 reg 5.000000e+04 train accuracy: 0.307490 val accuracy: 0.327000\n",
      "lr 3.736842e-07 reg 2.500000e+04 train accuracy: 0.326816 val accuracy: 0.344000\n",
      "lr 3.736842e-07 reg 2.777778e+04 train accuracy: 0.330592 val accuracy: 0.345000\n",
      "lr 3.736842e-07 reg 3.055556e+04 train accuracy: 0.319306 val accuracy: 0.343000\n",
      "lr 3.736842e-07 reg 3.333333e+04 train accuracy: 0.311878 val accuracy: 0.325000\n",
      "lr 3.736842e-07 reg 3.611111e+04 train accuracy: 0.311429 val accuracy: 0.332000\n",
      "lr 3.736842e-07 reg 3.888889e+04 train accuracy: 0.311816 val accuracy: 0.326000\n",
      "lr 3.736842e-07 reg 4.166667e+04 train accuracy: 0.313327 val accuracy: 0.327000\n",
      "lr 3.736842e-07 reg 4.444444e+04 train accuracy: 0.313061 val accuracy: 0.326000\n",
      "lr 3.736842e-07 reg 4.722222e+04 train accuracy: 0.311837 val accuracy: 0.319000\n",
      "lr 3.736842e-07 reg 5.000000e+04 train accuracy: 0.314204 val accuracy: 0.328000\n",
      "lr 3.947368e-07 reg 2.500000e+04 train accuracy: 0.331755 val accuracy: 0.344000\n",
      "lr 3.947368e-07 reg 2.777778e+04 train accuracy: 0.315714 val accuracy: 0.329000\n",
      "lr 3.947368e-07 reg 3.055556e+04 train accuracy: 0.309898 val accuracy: 0.328000\n",
      "lr 3.947368e-07 reg 3.333333e+04 train accuracy: 0.318061 val accuracy: 0.334000\n",
      "lr 3.947368e-07 reg 3.611111e+04 train accuracy: 0.312571 val accuracy: 0.332000\n",
      "lr 3.947368e-07 reg 3.888889e+04 train accuracy: 0.307510 val accuracy: 0.323000\n",
      "lr 3.947368e-07 reg 4.166667e+04 train accuracy: 0.304776 val accuracy: 0.318000\n",
      "lr 3.947368e-07 reg 4.444444e+04 train accuracy: 0.310612 val accuracy: 0.333000\n",
      "lr 3.947368e-07 reg 4.722222e+04 train accuracy: 0.308633 val accuracy: 0.323000\n",
      "lr 3.947368e-07 reg 5.000000e+04 train accuracy: 0.306286 val accuracy: 0.322000\n",
      "lr 4.157895e-07 reg 2.500000e+04 train accuracy: 0.322408 val accuracy: 0.333000\n",
      "lr 4.157895e-07 reg 2.777778e+04 train accuracy: 0.315959 val accuracy: 0.340000\n",
      "lr 4.157895e-07 reg 3.055556e+04 train accuracy: 0.324898 val accuracy: 0.338000\n",
      "lr 4.157895e-07 reg 3.333333e+04 train accuracy: 0.311490 val accuracy: 0.333000\n",
      "lr 4.157895e-07 reg 3.611111e+04 train accuracy: 0.322020 val accuracy: 0.326000\n",
      "lr 4.157895e-07 reg 3.888889e+04 train accuracy: 0.311224 val accuracy: 0.327000\n",
      "lr 4.157895e-07 reg 4.166667e+04 train accuracy: 0.313449 val accuracy: 0.329000\n",
      "lr 4.157895e-07 reg 4.444444e+04 train accuracy: 0.295694 val accuracy: 0.317000\n",
      "lr 4.157895e-07 reg 4.722222e+04 train accuracy: 0.312245 val accuracy: 0.327000\n",
      "lr 4.157895e-07 reg 5.000000e+04 train accuracy: 0.307469 val accuracy: 0.327000\n",
      "lr 4.368421e-07 reg 2.500000e+04 train accuracy: 0.333245 val accuracy: 0.350000\n",
      "lr 4.368421e-07 reg 2.777778e+04 train accuracy: 0.319735 val accuracy: 0.331000\n",
      "lr 4.368421e-07 reg 3.055556e+04 train accuracy: 0.322265 val accuracy: 0.340000\n",
      "lr 4.368421e-07 reg 3.333333e+04 train accuracy: 0.315571 val accuracy: 0.324000\n",
      "lr 4.368421e-07 reg 3.611111e+04 train accuracy: 0.317327 val accuracy: 0.328000\n",
      "lr 4.368421e-07 reg 3.888889e+04 train accuracy: 0.320510 val accuracy: 0.335000\n",
      "lr 4.368421e-07 reg 4.166667e+04 train accuracy: 0.302878 val accuracy: 0.325000\n",
      "lr 4.368421e-07 reg 4.444444e+04 train accuracy: 0.300184 val accuracy: 0.315000\n",
      "lr 4.368421e-07 reg 4.722222e+04 train accuracy: 0.304571 val accuracy: 0.327000\n",
      "lr 4.368421e-07 reg 5.000000e+04 train accuracy: 0.300571 val accuracy: 0.315000\n",
      "lr 4.578947e-07 reg 2.500000e+04 train accuracy: 0.322347 val accuracy: 0.337000\n",
      "lr 4.578947e-07 reg 2.777778e+04 train accuracy: 0.324816 val accuracy: 0.344000\n",
      "lr 4.578947e-07 reg 3.055556e+04 train accuracy: 0.319959 val accuracy: 0.339000\n",
      "lr 4.578947e-07 reg 3.333333e+04 train accuracy: 0.322245 val accuracy: 0.332000\n",
      "lr 4.578947e-07 reg 3.611111e+04 train accuracy: 0.310857 val accuracy: 0.320000\n",
      "lr 4.578947e-07 reg 3.888889e+04 train accuracy: 0.313531 val accuracy: 0.320000\n",
      "lr 4.578947e-07 reg 4.166667e+04 train accuracy: 0.305571 val accuracy: 0.327000\n",
      "lr 4.578947e-07 reg 4.444444e+04 train accuracy: 0.299490 val accuracy: 0.318000\n",
      "lr 4.578947e-07 reg 4.722222e+04 train accuracy: 0.313653 val accuracy: 0.326000\n",
      "lr 4.578947e-07 reg 5.000000e+04 train accuracy: 0.316224 val accuracy: 0.321000\n",
      "lr 4.789474e-07 reg 2.500000e+04 train accuracy: 0.314367 val accuracy: 0.330000\n",
      "lr 4.789474e-07 reg 2.777778e+04 train accuracy: 0.319306 val accuracy: 0.324000\n",
      "lr 4.789474e-07 reg 3.055556e+04 train accuracy: 0.325388 val accuracy: 0.341000\n",
      "lr 4.789474e-07 reg 3.333333e+04 train accuracy: 0.314837 val accuracy: 0.327000\n",
      "lr 4.789474e-07 reg 3.611111e+04 train accuracy: 0.323714 val accuracy: 0.343000\n",
      "lr 4.789474e-07 reg 3.888889e+04 train accuracy: 0.305122 val accuracy: 0.318000\n",
      "lr 4.789474e-07 reg 4.166667e+04 train accuracy: 0.297816 val accuracy: 0.305000\n",
      "lr 4.789474e-07 reg 4.444444e+04 train accuracy: 0.311980 val accuracy: 0.334000\n",
      "lr 4.789474e-07 reg 4.722222e+04 train accuracy: 0.319776 val accuracy: 0.327000\n",
      "lr 4.789474e-07 reg 5.000000e+04 train accuracy: 0.301204 val accuracy: 0.320000\n",
      "lr 5.000000e-07 reg 2.500000e+04 train accuracy: 0.325612 val accuracy: 0.326000\n",
      "lr 5.000000e-07 reg 2.777778e+04 train accuracy: 0.320653 val accuracy: 0.327000\n",
      "lr 5.000000e-07 reg 3.055556e+04 train accuracy: 0.314551 val accuracy: 0.331000\n",
      "lr 5.000000e-07 reg 3.333333e+04 train accuracy: 0.321714 val accuracy: 0.316000\n",
      "lr 5.000000e-07 reg 3.611111e+04 train accuracy: 0.317816 val accuracy: 0.336000\n",
      "lr 5.000000e-07 reg 3.888889e+04 train accuracy: 0.306837 val accuracy: 0.326000\n",
      "lr 5.000000e-07 reg 4.166667e+04 train accuracy: 0.315000 val accuracy: 0.325000\n",
      "lr 5.000000e-07 reg 4.444444e+04 train accuracy: 0.305265 val accuracy: 0.317000\n",
      "lr 5.000000e-07 reg 4.722222e+04 train accuracy: 0.310184 val accuracy: 0.328000\n",
      "lr 5.000000e-07 reg 5.000000e+04 train accuracy: 0.305102 val accuracy: 0.312000\n",
      "best validation accuracy achieved during cross-validation: 0.355000\n"
     ]
    }
   ],
   "source": [
    "# Use the validation set to tune hyperparameters (regularization strength and\n",
    "# learning rate). You should experiment with different ranges for the learning\n",
    "# rates and regularization strengths; if you are careful you should be able to\n",
    "# get a classification accuracy of over 0.35 on the validation set.\n",
    "from cs231n.classifiers import Softmax\n",
    "results = {}\n",
    "best_val = -1\n",
    "best_softmax = None\n",
    "learning_rates = [1e-7, 5e-7]\n",
    "regularization_strengths = [2.5e4, 5e4]\n",
    "\n",
    "################################################################################\n",
    "# TODO:                                                                        #\n",
    "# Use the validation set to set the learning rate and regularization strength. #\n",
    "# This should be identical to the validation that you did for the SVM; save    #\n",
    "# the best trained softmax classifer in best_softmax.                          #\n",
    "################################################################################\n",
    "# *****START OF YOUR CODE (DO NOT DELETE/MODIFY THIS LINE)*****\n",
    "\n",
    "learning_rates = np.linspace(learning_rates[0], learning_rates[1], 20)\n",
    "regularization_strengths = np.linspace(regularization_strengths[0], regularization_strengths[1], 10)\n",
    "\n",
    "for i in range(learning_rates.shape[0]):\n",
    "    for j in range(regularization_strengths.shape[0]):\n",
    "        # Create a SVM classifier object\n",
    "        trainer_object = Softmax()\n",
    "        \n",
    "        # Train \n",
    "        loss_list = trainer_object.train(X_train, y_train, learning_rates[i], regularization_strengths[j], num_iters=1500)\n",
    "        \n",
    "        # Prediction for training data\n",
    "        y_pred = trainer_object.predict(X_train)\n",
    "        # Accuracy for training data\n",
    "        y_pred_accuracy = np.mean(y_train == y_pred)\n",
    "\n",
    "        # Prediction for validation data\n",
    "        y_pred_val = trainer_object.predict(X_val)\n",
    "        # Accuracy for validation data\n",
    "        y_pred_val_accuracy = np.mean(y_val == y_pred_val)\n",
    "\n",
    "        # Store results\n",
    "        results[(learning_rates[i], regularization_strengths[j])] = (y_pred_accuracy, y_pred_val_accuracy)\n",
    "        # Compare validation score with best one store the best trainer object\n",
    "        if y_pred_val_accuracy > best_val:\n",
    "            best_val = y_pred_val_accuracy\n",
    "            best_softmax = trainer_object\n",
    "        trainer_object = None\n",
    "\n",
    "# *****END OF YOUR CODE (DO NOT DELETE/MODIFY THIS LINE)*****\n",
    "    \n",
    "# Print out results.\n",
    "for lr, reg in sorted(results):\n",
    "    train_accuracy, val_accuracy = results[(lr, reg)]\n",
    "    print('lr %e reg %e train accuracy: %f val accuracy: %f' % (\n",
    "                lr, reg, train_accuracy, val_accuracy))\n",
    "    \n",
    "print('best validation accuracy achieved during cross-validation: %f' % best_val)"
   ]
  },
  {
   "cell_type": "code",
   "execution_count": 7,
   "metadata": {},
   "outputs": [
    {
     "name": "stdout",
     "output_type": "stream",
     "text": [
      "softmax on raw pixels final test set accuracy: 0.350000\n"
     ]
    }
   ],
   "source": [
    "# evaluate on test set\n",
    "# Evaluate the best softmax on test set\n",
    "y_test_pred = best_softmax.predict(X_test)\n",
    "test_accuracy = np.mean(y_test == y_test_pred)\n",
    "print('softmax on raw pixels final test set accuracy: %f' % (test_accuracy, ))"
   ]
  },
  {
   "cell_type": "markdown",
   "metadata": {
    "tags": [
     "pdf-inline"
    ]
   },
   "source": [
    "**Inline Question 2** - *True or False*\n",
    "\n",
    "Suppose the overall training loss is defined as the sum of the per-datapoint loss over all training examples. It is possible to add a new datapoint to a training set that would leave the SVM loss unchanged, but this is not the case with the Softmax classifier loss.\n",
    "\n",
    "$\\color{blue}{\\textit Your Answer:}$ \n",
    "\n",
    "*True*\n",
    "\n",
    "\n",
    "$\\color{blue}{\\textit Your Explanation:}$\n",
    "\n",
    "*SVM loss is nonzero only a gap margin is not satisfied. If a gap margin is satisfied for a datapoint then SVM loss becomes zero. On the other hand, in order softmax loss to became zero, softmax function should return 1, which means exponential values of other class scores have to be 0. This situation only happens when false class scores(y=X@W) are negative infinitiy.*\n",
    "\n"
   ]
  },
  {
   "cell_type": "code",
   "execution_count": 8,
   "metadata": {},
   "outputs": [
    {
     "data": {
      "image/png": "[encoded data removed]",
      "text/plain": [
       "<Figure size 432x288 with 10 Axes>"
      ]
     },
     "metadata": {
      "needs_background": "light"
     },
     "output_type": "display_data"
    }
   ],
   "source": [
    "# Visualize the learned weights for each class\n",
    "w = best_softmax.W[:-1,:] # strip out the bias\n",
    "w = w.reshape(32, 32, 3, 10)\n",
    "\n",
    "w_min, w_max = np.min(w), np.max(w)\n",
    "\n",
    "classes = ['plane', 'car', 'bird', 'cat', 'deer', 'dog', 'frog', 'horse', 'ship', 'truck']\n",
    "for i in range(10):\n",
    "    plt.subplot(2, 5, i + 1)\n",
    "    \n",
    "    # Rescale the weights to be between 0 and 255\n",
    "    wimg = 255.0 * (w[:, :, :, i].squeeze() - w_min) / (w_max - w_min)\n",
    "    plt.imshow(wimg.astype('uint8'))\n",
    "    plt.axis('off')\n",
    "    plt.title(classes[i])"
   ]
  }
 ],
 "metadata": {
  "interpreter": {
   "hash": "00b5576e8b3626ecdb1d066e48490e95de53519858b875a471fa77ffbf2a8308"
  },
  "kernelspec": {
   "display_name": "Python 3.7.13 ('cs231n')",
   "language": "python",
   "name": "python3"
  },
  "language_info": {
   "codemirror_mode": {
    "name": "ipython",
    "version": 3
   },
   "file_extension": ".py",
   "mimetype": "text/x-python",
   "name": "python",
   "nbconvert_exporter": "python",
   "pygments_lexer": "ipython3",
   "version": "3.7.13"
  },
  "vscode": {
   "interpreter": {
    "hash": "00b5576e8b3626ecdb1d066e48490e95de53519858b875a471fa77ffbf2a8308"
   }
  }
 },
 "nbformat": 4,
 "nbformat_minor": 1
}
